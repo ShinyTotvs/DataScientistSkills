{
 "cells": [
  {
   "cell_type": "markdown",
   "metadata": {},
   "source": [
    "# Titanic Dataset\n",
    "Kasey Cox / March 2017\n",
    "\n",
    "### Question: Which passenger characteristics correlate with survival?"
   ]
  },
  {
   "cell_type": "code",
   "execution_count": 1,
   "metadata": {
    "collapsed": false,
    "scrolled": true
   },
   "outputs": [
    {
     "data": {
      "application/javascript": [
       "IPython.notebook.set_autosave_interval(0)"
      ]
     },
     "metadata": {},
     "output_type": "display_data"
    },
    {
     "name": "stdout",
     "output_type": "stream",
     "text": [
      "Autosave disabled\n"
     ]
    }
   ],
   "source": [
    "# General imports and functions\n",
    "%autosave 0\n",
    "import numpy as np\n",
    "import pandas as pd\n",
    "import scipy.stats as stats\n",
    "import matplotlib.pyplot as plt\n",
    "import seaborn as sns\n",
    "%matplotlib inline"
   ]
  },
  {
   "cell_type": "markdown",
   "metadata": {},
   "source": [
    "# Wrangle data\n",
    "\n",
    "### Import data and preview it"
   ]
  },
  {
   "cell_type": "code",
   "execution_count": 2,
   "metadata": {
    "collapsed": true
   },
   "outputs": [],
   "source": [
    "# Import csv as DataFrame\n",
    "titanic_df = pd.read_csv('titanic_data.csv', header=0)"
   ]
  },
  {
   "cell_type": "code",
   "execution_count": 3,
   "metadata": {
    "collapsed": false
   },
   "outputs": [
    {
     "name": "stdout",
     "output_type": "stream",
     "text": [
      "     PassengerId  Survived  Pclass                                      Name  \\\n",
      "886          887         0       2                     Montvila, Rev. Juozas   \n",
      "887          888         1       1              Graham, Miss. Margaret Edith   \n",
      "888          889         0       3  Johnston, Miss. Catherine Helen \"Carrie\"   \n",
      "889          890         1       1                     Behr, Mr. Karl Howell   \n",
      "890          891         0       3                       Dooley, Mr. Patrick   \n",
      "\n",
      "        Sex   Age  SibSp  Parch      Ticket   Fare Cabin Embarked  \n",
      "886    male  27.0      0      0      211536  13.00   NaN        S  \n",
      "887  female  19.0      0      0      112053  30.00   B42        S  \n",
      "888  female   NaN      1      2  W./C. 6607  23.45   NaN        S  \n",
      "889    male  26.0      0      0      111369  30.00  C148        C  \n",
      "890    male  32.0      0      0      370376   7.75   NaN        Q  \n",
      "\n",
      "No. passengers: 891\n"
     ]
    }
   ],
   "source": [
    "# Make sure it worked...\n",
    "print titanic_df.tail()\n",
    "print \"\\n\" + \"No. passengers:\", titanic_df.shape[0]"
   ]
  },
  {
   "cell_type": "markdown",
   "metadata": {},
   "source": [
    "### Clean up data:\n",
    "- change confusing/unclear column names to easily recognizable ones\n",
    "- Transform 'Survived' column values into descriptive values (e.g. 0 --> 'Died')\n",
    "- Transform 'Pclass' column values into descriptive values (e.g. 3 --> 'Third Class')\n",
    "- Transform 'Embarked' values to the actual names of the ports"
   ]
  },
  {
   "cell_type": "code",
   "execution_count": 4,
   "metadata": {
    "collapsed": false
   },
   "outputs": [
    {
     "name": "stdout",
     "output_type": "stream",
     "text": [
      "No. columns: 12 \n",
      "\n",
      "Index([u'PassengerId', u'Survived', u'Pclass', u'Name', u'Sex', u'Age',\n",
      "       u'SibSp', u'Parch', u'Ticket', u'Fare', u'Cabin', u'Embarked'],\n",
      "      dtype='object')\n"
     ]
    }
   ],
   "source": [
    "# Existing columns\n",
    "print \"No. columns:\", titanic_df.shape[1], \"\\n\"\n",
    "print titanic_df.columns"
   ]
  },
  {
   "cell_type": "code",
   "execution_count": 5,
   "metadata": {
    "collapsed": false
   },
   "outputs": [
    {
     "name": "stdout",
     "output_type": "stream",
     "text": [
      "Index([u'Passenger_ID', u'Survived', u'Class', u'Name', u'Sex', u'Age',\n",
      "       u'Siblings_spouses_aboard', u'Parents_children_aboard', u'Ticket',\n",
      "       u'Fare', u'Cabin_num', u'Port_of_Embarkation'],\n",
      "      dtype='object')\n"
     ]
    }
   ],
   "source": [
    "# Change to desired column names\n",
    "new_col_names = ['Passenger_ID', 'Survived', 'Class', 'Name', 'Sex', 'Age',\n",
    "       'Siblings_spouses_aboard', 'Parents_children_aboard', 'Ticket', 'Fare', 'Cabin_num', 'Port_of_Embarkation']\n",
    "titanic_df.columns = new_col_names\n",
    "print titanic_df.columns"
   ]
  },
  {
   "cell_type": "code",
   "execution_count": 6,
   "metadata": {
    "collapsed": false
   },
   "outputs": [
    {
     "name": "stdout",
     "output_type": "stream",
     "text": [
      "0        Died\n",
      "1    Survived\n",
      "2    Survived\n",
      "3    Survived\n",
      "4        Died\n",
      "Name: Survived, dtype: object\n"
     ]
    }
   ],
   "source": [
    "# Transforming 'Survived' column values\n",
    "titanic_df['Survived'] = titanic_df['Survived'].map({0:'Died', 1:'Survived'})\n",
    "\n",
    "# Checking that it worked...\n",
    "print titanic_df['Survived'].head()"
   ]
  },
  {
   "cell_type": "code",
   "execution_count": 7,
   "metadata": {
    "collapsed": false
   },
   "outputs": [
    {
     "name": "stdout",
     "output_type": "stream",
     "text": [
      "0    Third Class\n",
      "1    First Class\n",
      "2    Third Class\n",
      "3    First Class\n",
      "4    Third Class\n",
      "Name: Class, dtype: object\n"
     ]
    }
   ],
   "source": [
    "# Transforming 'Class' column values\n",
    "titanic_df['Class'] = titanic_df['Class'].map({1:'First Class', 2:'Second Class', 3:'Third Class'})\n",
    "\n",
    "# Checking that it worked...\n",
    "print titanic_df['Class'].head()"
   ]
  },
  {
   "cell_type": "code",
   "execution_count": 8,
   "metadata": {
    "collapsed": false
   },
   "outputs": [
    {
     "name": "stdout",
     "output_type": "stream",
     "text": [
      "0    Southampton\n",
      "1      Cherbourg\n",
      "2    Southampton\n",
      "3    Southampton\n",
      "4    Southampton\n",
      "Name: Port_of_Embarkation, dtype: object\n"
     ]
    }
   ],
   "source": [
    "# Transforming 'Port' column values\n",
    "titanic_df['Port_of_Embarkation'] = titanic_df['Port_of_Embarkation'].map({'S':'Southampton', \\\n",
    "                                                                           'C':'Cherbourg', 'Q':'Queenstown'})\n",
    "\n",
    "# Checking that it worked...\n",
    "print titanic_df['Port_of_Embarkation'].head()"
   ]
  },
  {
   "cell_type": "markdown",
   "metadata": {},
   "source": [
    "# Exploration\n",
    "\n",
    "To answer my question, I need to first choose passenger characteristics to test against survival. Second, I will want to graph or plot the data; this will give me a preview of the data and allow me to pick out any obvious patterns. If appropriate, I would need to statistically determine if there is any relationship between the variables."
   ]
  },
  {
   "cell_type": "markdown",
   "metadata": {},
   "source": [
    "## 1. Determine variables to test against survival\n",
    "- find number of NaNs present in a column\n",
    "- pick variables"
   ]
  },
  {
   "cell_type": "code",
   "execution_count": 9,
   "metadata": {
    "collapsed": false,
    "scrolled": false
   },
   "outputs": [
    {
     "name": "stdout",
     "output_type": "stream",
     "text": [
      "NaNs present in columns\n",
      "-----------------------\n",
      "Passenger_ID: 0\n",
      "Survived: 0\n",
      "Class: 0\n",
      "Name: 0\n",
      "Sex: 0\n",
      "Age: 177\n",
      "Siblings_spouses_aboard: 0\n",
      "Parents_children_aboard: 0\n",
      "Ticket: 0\n",
      "Fare: 0\n",
      "Cabin_num: 687\n",
      "Port_of_Embarkation: 2\n"
     ]
    }
   ],
   "source": [
    "# Check for NaNs in each column\n",
    "print \"NaNs present in columns\"\n",
    "print \"-----------------------\"\n",
    "for col in titanic_df.columns:\n",
    "    print str(col) + \":\", titanic_df[titanic_df[col].isnull()].shape[0]"
   ]
  },
  {
   "cell_type": "markdown",
   "metadata": {},
   "source": [
    "I will handle NaNs in the data when I analyse variables that contain them."
   ]
  },
  {
   "cell_type": "markdown",
   "metadata": {},
   "source": [
    "The 'Survived' column represents survival as either a 0 (died) or a 1 (survived).\n",
    "\n",
    "__Variables that seem like they might be connected to one's survival aboard the Titanic and that will be investigated:__\n",
    "- Sex\n",
    "    - Social convention may spare women\n",
    "- Class\n",
    "    - Higher class passengers may be favored\n",
    "    - Higher class passengers' cabins were closer to the boat deck where the lifeboats were housed\n",
    "- Fare\n",
    "    - Likely correlates with passenger class (if class correlates with survival, then so will this).\n",
    "- Age\n",
    "    - Maybe social convention favored saving the young?\n",
    "    - This one may be tricky because many entries are missing\n",
    "    \n",
    "__Variables that seem useless; not investigating:__\n",
    "- Passenger ID\n",
    "    - Appear to be arbitrarily assigned\n",
    "- Ticket\n",
    "    - Appear to be arbitrarily assigned\n",
    "- Cabin number\n",
    "    - Too many missing entries to be useful\n",
    "    \n",
    "__Variables that may or may not be insightful; not investigating:__\n",
    "- Parents_children_aboard\n",
    "    - Social convention may spare women (mothers) and children\n",
    "- Name\n",
    "- Siblings_spouses_aboard\n",
    "- Embarked"
   ]
  },
  {
   "cell_type": "markdown",
   "metadata": {},
   "source": [
    "## 2. Plot/graph variables and mathematically explore"
   ]
  },
  {
   "cell_type": "markdown",
   "metadata": {},
   "source": [
    "## Passenger Sex"
   ]
  },
  {
   "cell_type": "code",
   "execution_count": 10,
   "metadata": {
    "collapsed": false
   },
   "outputs": [
    {
     "name": "stdout",
     "output_type": "stream",
     "text": [
      "['male' 'female']\n",
      "['Died' 'Survived']\n"
     ]
    }
   ],
   "source": [
    "# Variables\n",
    "print titanic_df['Sex'].unique()\n",
    "print titanic_df['Survived'].unique()"
   ]
  },
  {
   "cell_type": "code",
   "execution_count": 11,
   "metadata": {
    "collapsed": false,
    "scrolled": false
   },
   "outputs": [
    {
     "data": {
      "image/png": "[encoded data removed]",
      "text/plain": [
       "<matplotlib.figure.Figure at 0x7fde74f9fe90>"
      ]
     },
     "metadata": {},
     "output_type": "display_data"
    }
   ],
   "source": [
    "# Plot\n",
    "sex_v_survival =  titanic_df[['Sex', 'Survived']]\n",
    "plt_clrs = ['green' if (x == 'Survived') else 'red' for x in sex_v_survival['Survived']]    # red for dead, green for survived\n",
    "g = sns.countplot(x='Sex', hue='Survived', data=sex_v_survival, palette=plt_clrs)\n",
    "\n",
    "# Modify appearance\n",
    "g.axes.set_title('Passenger Sex and Survival Counts', fontsize=18, fontweight='bold', color=\"k\", alpha=0.8)\n",
    "g.set_xlabel(\"Class\", size = 14, color=\"k\", alpha=0.8)\n",
    "g.set_ylabel(\"Count\", size = 14, color=\"k\", alpha=0.8)\n",
    "g.figure.set_size_inches(6,6)\n",
    "sns.set_style(\"whitegrid\")\n",
    "\n",
    "# Get bars and create bar labels\n",
    "bars_list =  g.patches          # axis.patches gives the bar objects produced by the plot\n",
    "male_deaths = len(sex_v_survival[(sex_v_survival['Sex'] == 'male') & (sex_v_survival['Survived'] == 'Died')])\n",
    "male_survivors = len(sex_v_survival[(sex_v_survival['Sex'] == 'male') & (sex_v_survival['Survived'] == 'Survived')])\n",
    "female_deaths = len(sex_v_survival[(sex_v_survival['Sex'] == 'female') & (sex_v_survival['Survived'] == 'Died')])\n",
    "female_survivors = len(sex_v_survival[(sex_v_survival['Sex'] == 'female') & (sex_v_survival['Survived'] == 'Survived')])\n",
    "bar_labels = [str(freq) for freq in [male_deaths, female_deaths, male_survivors,female_survivors]]\n",
    "\n",
    "# Place bar labels\n",
    "for bar, label in zip(bars_list, bar_labels):        # iterate through these \n",
    "    g.text((bar.get_x() + bar.get_width()/2), (bar.get_height() + 4), label, ha='center', size=12, fontweight='bold')"
   ]
  },
  {
   "cell_type": "code",
   "execution_count": 12,
   "metadata": {
    "collapsed": false
   },
   "outputs": [
    {
     "name": "stdout",
     "output_type": "stream",
     "text": [
      "Total males: 577\n",
      "Male deaths: 468\n",
      "% dead: 81.1091854419 \n",
      "\n",
      "Total females: 314\n",
      "Female deaths: 81\n",
      "% dead: 25.7961783439\n"
     ]
    }
   ],
   "source": [
    "# Males\n",
    "total_males = len(sex_v_survival[sex_v_survival['Sex'] == 'male'])\n",
    "print 'Total males:', total_males\n",
    "print 'Male deaths:', male_deaths\n",
    "print '% dead:', (male_deaths/float(total_males))*100, \"\\n\"\n",
    "\n",
    "# Females\n",
    "total_females = len(sex_v_survival[sex_v_survival['Sex'] == 'female'])\n",
    "print 'Total females:', len(sex_v_survival[sex_v_survival['Sex'] == 'female'])\n",
    "print 'Female deaths:', len(sex_v_survival[(sex_v_survival['Sex'] == 'female') & (sex_v_survival['Survived'] == 'Died')])\n",
    "print '% dead:', (female_deaths/float(total_females))*100"
   ]
  },
  {
   "cell_type": "markdown",
   "metadata": {},
   "source": [
    "The most deaths, in absolute terms and in terms of percent, were of men.\n",
    "> Total males: 577\n",
    ">\n",
    "> Male deaths: 468\n",
    ">\n",
    "> __% dead: 81.1091854419__\n",
    "\n",
    "Female death rate is much lower than that of men.\n",
    ">Total females: 314\n",
    ">\n",
    ">Female deaths: 81\n",
    ">\n",
    "> __% dead: 25.7961783439__\n",
    "\n",
    "__Sex seems to affect survival__, let's prove it with a Pearson's chi-squared test for goodness of fit! \n",
    "- I am picking this test because sex is a categorical variable, so tests like t-tests are inappropriate here.\n",
    "- The overall death rate for a passenger aboard the Titanic (sex not considered) is 0.62\n",
    "    - 549 / 891\n",
    "    - total deaths / all passengers\n",
    "\n",
    "Hypotheses:\n",
    ">H<sub>0</sub>: The death rate for males and females is 0.62\n",
    ">\n",
    ">H<sub>1</sub>: The death rate for males and females is __not__ 0.62\n",
    "\n",
    "Confidence level: 99% ($\\alpha$ = 0.01)"
   ]
  },
  {
   "cell_type": "code",
   "execution_count": 13,
   "metadata": {
    "collapsed": false
   },
   "outputs": [
    {
     "name": "stdout",
     "output_type": "stream",
     "text": [
      "Observed counts\n",
      "0\n",
      "Non-survivors, female     81\n",
      "Non-survivors, male      468\n",
      "Survivors, female        233\n",
      "Survivors, male          109\n",
      "Name: counts, dtype: int64 \n",
      "\n",
      "Expected counts if sex does not influence\n",
      "Non-survivors, female    193.474747\n",
      "Non-survivors, male      355.525253\n",
      "Survivors, female        120.525253\n",
      "Survivors, male          221.474747\n",
      "dtype: float64 \n",
      "\n",
      "Chi-squared statistic: 263.050574071\n",
      "Chi-squared critical @ p=0.01: 6.63489660102\n",
      "p-value: 7.57344733665e-58\n"
     ]
    }
   ],
   "source": [
    "# Construct a frequency distribution table\n",
    "obs_sex = pd.DataFrame(['Non-survivors, male']*male_deaths + ['Survivors, male']*(total_males - male_deaths) +\\\n",
    "                        ['Non-survivors, female']*female_deaths + ['Survivors, female']*(total_females - female_deaths))\n",
    "obs_sex_table = pd.crosstab(index=obs_sex[0], columns=\"counts\")\n",
    "print 'Observed counts'\n",
    "print obs_sex_table['counts'], '\\n'\n",
    "\n",
    "# Get expected frequencies (observed is obs_sex_table)\n",
    "survivors_total = len(titanic_df[titanic_df['Survived'] == 'Survived'])\n",
    "deaths_total = len(titanic_df[titanic_df['Survived'] == 'Died'])\n",
    "passengers_total = total_females + total_males\n",
    "exp_table = pd.Series({'Non-survivors, female': ((deaths_total/float(passengers_total))*total_females), \\\n",
    "                          'Non-survivors, male': ((deaths_total/float(passengers_total))*total_males), \\\n",
    "                          'Survivors, female': ((survivors_total/float(passengers_total))*total_females), \\\n",
    "                          'Survivors, male': ((survivors_total/float(passengers_total))*total_males)})\n",
    "print 'Expected counts if sex does not influence'\n",
    "print exp_table, '\\n'\n",
    "\n",
    "# Pearson's chi-squared test (goodness of fit)\n",
    "sex_v_surv_chisquared =  stats.chisquare(obs_sex_table['counts'], f_exp=exp_table, ddof=1, axis=None)\n",
    "sex_crit = stats.chi2.ppf(q = 0.99, df = 1)\n",
    "\n",
    "# Report\n",
    "print 'Chi-squared statistic:', sex_v_surv_chisquared[0]\n",
    "print 'Chi-squared critical @ p=0.01:', sex_crit\n",
    "print 'p-value:', sex_v_surv_chisquared[1]"
   ]
  },
  {
   "cell_type": "markdown",
   "metadata": {},
   "source": [
    "Test conditions and results:\n",
    "> Chi-squared critical @ p=0.01: 6.63489660102\n",
    ">\n",
    "> Chi-squared statistic result: 263.050574071\n",
    ">\n",
    "> Calculated p-value: 7.57344733665e-58\n",
    ">\n",
    "> Null hypothesis rejected at p=0.01\n",
    "\n",
    "Interpretation: \n",
    ">__Survival based on sex is NOT by random chance__-- extremely tiny probability that this pattern was seen by random chance.\n",
    ">\n",
    "> __If a passenger is female, she is more likely to survive than her male counterparts.__"
   ]
  },
  {
   "cell_type": "markdown",
   "metadata": {},
   "source": [
    "## Passenger class"
   ]
  },
  {
   "cell_type": "code",
   "execution_count": 14,
   "metadata": {
    "collapsed": false
   },
   "outputs": [
    {
     "data": {
      "image/png": "[encoded data removed]",
      "text/plain": [
       "<matplotlib.figure.Figure at 0x7fde653ba110>"
      ]
     },
     "metadata": {},
     "output_type": "display_data"
    }
   ],
   "source": [
    "# Plot\n",
    "class_v_survival =  titanic_df[['Class', 'Survived']]\n",
    "plt_clrs = ['green' if (x == 'Survived') else 'red' for x in class_v_survival['Survived']]   #red for dead, green for survived\n",
    "g = sns.countplot(x='Class', hue='Survived', data=class_v_survival, palette=plt_clrs)\n",
    "g.figure.set_size_inches(8,4)\n",
    "\n",
    "# Modify appearance\n",
    "sns.set_style(\"whitegrid\")\n",
    "g.axes.set_title('Passenger Class and Survival Counts', fontsize=18, fontweight='bold', color=\"k\", alpha=0.8)\n",
    "g.set_xlabel(\"Class\", size = 14, color=\"k\", alpha=0.8)\n",
    "g.set_ylabel(\"Count\", size = 14, color=\"k\", alpha=0.8)\n",
    "g.figure.set_size_inches(9,6)\n",
    "\n",
    "# Get bars and create bar labels\n",
    "bars_list =  g.patches          # axis.patches gives the bar objects produced by the plot\n",
    "first_class_deaths = len(class_v_survival[(class_v_survival['Class'] == 'First Class') & \\\n",
    "                                          (class_v_survival['Survived'] == 'Died')])\n",
    "first_class_survivors = len(class_v_survival[(class_v_survival['Class'] == 'First Class') & \\\n",
    "                                             (class_v_survival['Survived'] == 'Survived')])\n",
    "second_class_deaths = len(class_v_survival[(class_v_survival['Class'] == 'Second Class') & \\\n",
    "                                           (class_v_survival['Survived'] == 'Died')])\n",
    "second_class_survivors = len(class_v_survival[(class_v_survival['Class'] == 'Second Class') & \\\n",
    "                                              (class_v_survival['Survived'] == 'Survived')])\n",
    "third_class_deaths = len(class_v_survival[(class_v_survival['Class'] == 'Third Class') & \\\n",
    "                                          (class_v_survival['Survived'] == 'Died')])\n",
    "third_class_survivors = len(class_v_survival[(class_v_survival['Class'] == 'Third Class') & \\\n",
    "                                             (class_v_survival['Survived'] == 'Survived')])\n",
    "label_list = [third_class_deaths, first_class_deaths, second_class_deaths, \\\n",
    "              third_class_survivors, first_class_survivors, second_class_survivors]\n",
    "bar_labels = [str(freq) for freq in label_list]\n",
    "\n",
    "# Place bar labels\n",
    "for bar, label in zip(bars_list, bar_labels):\n",
    "    g.text((bar.get_x() + bar.get_width()/2), (bar.get_height() + 4), label, ha='center', size=12, fontweight='bold')"
   ]
  },
  {
   "cell_type": "code",
   "execution_count": 15,
   "metadata": {
    "collapsed": false
   },
   "outputs": [
    {
     "name": "stdout",
     "output_type": "stream",
     "text": [
      "Total 1st class: 216\n",
      "1st class deaths: 80\n",
      "% dead: 37.037037037 \n",
      "\n",
      "Total 2nd class: 184\n",
      "2nd class deaths: 97\n",
      "% dead: 52.7173913043 \n",
      "\n",
      "Total 3rd class: 491\n",
      "3rd class deaths: 372\n",
      "% dead: 75.7637474542 \n",
      "\n"
     ]
    }
   ],
   "source": [
    "# 1st class\n",
    "total_first_class = len(class_v_survival[class_v_survival['Class'] == 'First Class'])\n",
    "print 'Total 1st class:', total_first_class\n",
    "print '1st class deaths:', first_class_deaths\n",
    "print '% dead:', (first_class_deaths/float(total_first_class))*100, \"\\n\"\n",
    "\n",
    "# 2nd class\n",
    "total_second_class = len(class_v_survival[class_v_survival['Class'] == 'Second Class'])\n",
    "print 'Total 2nd class:', total_second_class\n",
    "print '2nd class deaths:', second_class_deaths\n",
    "print '% dead:', (second_class_deaths/float(total_second_class))*100, \"\\n\"\n",
    "\n",
    "# 3rd class\n",
    "total_third_class = len(class_v_survival[class_v_survival['Class'] == 'Third Class'])\n",
    "print 'Total 3rd class:', total_third_class\n",
    "print '3rd class deaths:', third_class_deaths\n",
    "print '% dead:', (third_class_deaths/float(total_third_class))*100, \"\\n\""
   ]
  },
  {
   "cell_type": "markdown",
   "metadata": {},
   "source": [
    "1st class survival rate:\n",
    "> % dead: 37.037037037\n",
    "\n",
    "2nd class survival rate:\n",
    "> % dead: 52.7173913043\n",
    "\n",
    "3rd class survival rate:\n",
    "> % dead: 75.7637474542 \n",
    "\n",
    "__Class appears to correlate with survival__, let's demonstrate it with a Pearson's chi-squared test for goodness of fit!!!!\n",
    "- I am picking this test because class is a categorical variable, so tests like t-tests are inappropriate here.\n",
    "- The overall death rate for a passenger aboard the Titanic (class not considered) is 0.62\n",
    "    - 549 / 891\n",
    "    - total deaths / all passengers\n",
    "\n",
    "Hypotheses:\n",
    ">H<sub>0</sub>: The death rate for 1st class passengers, 2nd class passengers, and 3rd class passengers is 0.62 for each class.\n",
    ">\n",
    ">H<sub>1</sub>: The death rate for 1st class passengers, 2nd class passengers, __or__ 3rd class passengers is __not__ 0.62.\n",
    "\n",
    "Confidence level: 99% ($\\alpha$ = 0.01)"
   ]
  },
  {
   "cell_type": "code",
   "execution_count": 16,
   "metadata": {
    "collapsed": false
   },
   "outputs": [
    {
     "name": "stdout",
     "output_type": "stream",
     "text": [
      "Observed rates\n",
      "0\n",
      "1st class deaths        80\n",
      "1st class survivors    136\n",
      "2nd class deaths        97\n",
      "2nd class survivors     87\n",
      "3rd class deaths       372\n",
      "3rd class survivors    119\n",
      "Name: counts, dtype: int64\n",
      "\n",
      "Expected rates if class does not influence\n",
      "1st class deaths       133.090909\n",
      "1st class survivors     82.909091\n",
      "2nd class deaths       113.373737\n",
      "2nd class survivors     70.626263\n",
      "3rd class deaths       302.535354\n",
      "3rd class survivors    188.464646\n",
      "dtype: float64\n",
      "\n",
      "Chi-squared stat: 102.888988757\n",
      "Critical value @ p=0.01: 9.21034037198\n",
      "p-value: 3.71728275658e-22\n"
     ]
    }
   ],
   "source": [
    "# Construct a frequency distribution table\n",
    "obs_class = pd.DataFrame(['1st class deaths']*first_class_deaths + ['2nd class deaths']*second_class_deaths +\\\n",
    "                        ['3rd class deaths']*third_class_deaths + ['1st class survivors']*(total_first_class - \\\n",
    "                                                                                           first_class_deaths) +\\\n",
    "                        ['2nd class survivors']*(total_second_class - second_class_deaths) +\\\n",
    "                        ['3rd class survivors']*(total_third_class - third_class_deaths))\n",
    "obs_class_table = pd.crosstab(index=obs_class[0], columns=\"counts\")\n",
    "print 'Observed rates'\n",
    "print obs_class_table['counts']\n",
    "print\n",
    "\n",
    "# Get expected frequencies\n",
    "death_ratio = (deaths_total/float(passengers_total))\n",
    "surv_ratio = (survivors_total/float(passengers_total))\n",
    "exp_class = pd.Series({'1st class deaths': (death_ratio*total_first_class), \\\n",
    "                       '1st class survivors': (surv_ratio*total_first_class), \\\n",
    "                       '2nd class deaths': (death_ratio*total_second_class), \\\n",
    "                       '2nd class survivors': (surv_ratio*total_second_class), \\\n",
    "                       '3rd class deaths': (death_ratio*total_third_class), \\\n",
    "                       '3rd class survivors': (surv_ratio*total_third_class)})\n",
    "print 'Expected rates if class does not influence'\n",
    "print exp_class\n",
    "print\n",
    "\n",
    "# Pearson's chi-squared test for goodness of fit\n",
    "class_v_surv_chisquared =  stats.chisquare(obs_class_table['counts'], f_exp=exp_class, ddof=2, axis=None)\n",
    "class_crit = stats.chi2.ppf(q = 0.99, df = 2)        # t-critical value\n",
    "\n",
    "# Report\n",
    "print 'Chi-squared stat:', class_v_surv_chisquared[0]\n",
    "print 'Critical value @ p=0.01:', class_crit\n",
    "print 'p-value:', class_v_surv_chisquared[1]"
   ]
  },
  {
   "cell_type": "markdown",
   "metadata": {},
   "source": [
    "Test conditions and results:\n",
    "> Critical value @ p=0.01: 9.21034037198\n",
    ">\n",
    "> Chi-squared statistic result: 102.888988757\n",
    ">\n",
    "> Calculated p-value: 3.71728275658e-22\n",
    ">\n",
    ">Null hypothesis rejected at p=0.01\n",
    "\n",
    "Interpretation: \n",
    ">__Survival based on class is NOT by random chance__-- extremely tiny probability that this pattern was seen by random chance.\n",
    ">\n",
    "> __The higher a passenger's class, the more likely that the passenger survives.__"
   ]
  },
  {
   "cell_type": "markdown",
   "metadata": {},
   "source": [
    "## Passenger Fare"
   ]
  },
  {
   "cell_type": "code",
   "execution_count": 17,
   "metadata": {
    "collapsed": false
   },
   "outputs": [
    {
     "data": {
      "image/png": "[encoded data removed]",
      "text/plain": [
       "<matplotlib.figure.Figure at 0x7fde653e2650>"
      ]
     },
     "metadata": {},
     "output_type": "display_data"
    }
   ],
   "source": [
    "# Initial boxplot of fare data\n",
    "bx_plt = sns.boxplot(x=titanic_df['Survived'], y=titanic_df['Fare'])\n",
    "bx_plt.figure.set_size_inches(6,8)"
   ]
  },
  {
   "cell_type": "markdown",
   "metadata": {
    "collapsed": true
   },
   "source": [
    "The extreme outliers make it difficult to see the boxplot features. Let's remove extreme value(s) (fare >= 200) to improve the visualization."
   ]
  },
  {
   "cell_type": "code",
   "execution_count": 18,
   "metadata": {
    "collapsed": false
   },
   "outputs": [
    {
     "name": "stdout",
     "output_type": "stream",
     "text": [
      "No. extreme outliers (fare > 200): 20 \n",
      "\n",
      "First 5 of 20:\n",
      "     Passenger_ID  Survived        Class  \\\n",
      "27             28      Died  First Class   \n",
      "88             89  Survived  First Class   \n",
      "118           119      Died  First Class   \n",
      "258           259  Survived  First Class   \n",
      "299           300  Survived  First Class   \n",
      "\n",
      "                                                Name     Sex   Age  \\\n",
      "27                    Fortune, Mr. Charles Alexander    male  19.0   \n",
      "88                        Fortune, Miss. Mabel Helen  female  23.0   \n",
      "118                         Baxter, Mr. Quigg Edmond    male  24.0   \n",
      "258                                 Ward, Miss. Anna  female  35.0   \n",
      "299  Baxter, Mrs. James (Helene DeLaudeniere Chaput)  female  50.0   \n",
      "\n",
      "     Siblings_spouses_aboard  Parents_children_aboard    Ticket      Fare  \\\n",
      "27                         3                        2     19950  263.0000   \n",
      "88                         3                        2     19950  263.0000   \n",
      "118                        0                        1  PC 17558  247.5208   \n",
      "258                        0                        0  PC 17755  512.3292   \n",
      "299                        0                        1  PC 17558  247.5208   \n",
      "\n",
      "       Cabin_num Port_of_Embarkation  \n",
      "27   C23 C25 C27         Southampton  \n",
      "88   C23 C25 C27         Southampton  \n",
      "118      B58 B60           Cherbourg  \n",
      "258          NaN           Cherbourg  \n",
      "299      B58 B60           Cherbourg  \n"
     ]
    }
   ],
   "source": [
    "# Extreme value(s) in survived category\n",
    "print \"No. extreme outliers (fare > 200):\", len(titanic_df[titanic_df['Fare'] >= 200]), '\\n'\n",
    "print 'First 5 of 20:' + '\\n', titanic_df[titanic_df['Fare'] >= 200].head()"
   ]
  },
  {
   "cell_type": "code",
   "execution_count": 19,
   "metadata": {
    "collapsed": false,
    "scrolled": true
   },
   "outputs": [],
   "source": [
    "# Removing these values; RUN ONLY ONCE\n",
    "no_xtreme_outliers_df = titanic_df[titanic_df['Fare'] < 200].reset_index(drop=True)"
   ]
  },
  {
   "cell_type": "code",
   "execution_count": 20,
   "metadata": {
    "collapsed": false
   },
   "outputs": [
    {
     "data": {
      "text/plain": [
       "(871, 12)"
      ]
     },
     "execution_count": 20,
     "metadata": {},
     "output_type": "execute_result"
    }
   ],
   "source": [
    "# Checking that it worked\n",
    "no_xtreme_outliers_df.shape"
   ]
  },
  {
   "cell_type": "markdown",
   "metadata": {},
   "source": [
    "Now that these extreme values are removed, let's re-plot the data and get some descriptive statistics."
   ]
  },
  {
   "cell_type": "code",
   "execution_count": 21,
   "metadata": {
    "collapsed": false
   },
   "outputs": [
    {
     "data": {
      "image/png": "[encoded data removed]",
      "text/plain": [
       "<matplotlib.figure.Figure at 0x7fde68821c10>"
      ]
     },
     "metadata": {},
     "output_type": "display_data"
    }
   ],
   "source": [
    "# Plot\n",
    "plt_clrs = ['green' if (x == 'Survived') else 'red' for x in no_xtreme_outliers_df['Survived']]   \\\n",
    "                                                                              #red for dead, green for survived\n",
    "bx_plt = sns.boxplot(x=no_xtreme_outliers_df['Survived'], y=no_xtreme_outliers_df['Fare'], palette=plt_clrs)\n",
    "\n",
    "# Modify appearance\n",
    "bx_plt.axes.set_title('Passenger Fare and Survival (Fare < 200)', fontsize=18, fontweight='bold', color=\"k\", alpha=0.8)\n",
    "bx_plt.set_xlabel(\"Survived\", size = 14, color=\"k\", alpha=0.8)\n",
    "bx_plt.set_ylabel(\"Fare\", size = 14, color=\"k\", alpha=0.8)\n",
    "bx_plt.figure.set_size_inches(5,8)"
   ]
  },
  {
   "cell_type": "code",
   "execution_count": 22,
   "metadata": {
    "collapsed": false
   },
   "outputs": [
    {
     "name": "stdout",
     "output_type": "stream",
     "text": [
      "Survived       \n",
      "Died      count    543.000000\n",
      "          mean      19.720801\n",
      "          std       21.562705\n",
      "          min        0.000000\n",
      "          50%       10.462500\n",
      "          max      153.462500\n",
      "Survived  count    328.000000\n",
      "          mean      37.802998\n",
      "          std       36.289537\n",
      "          min        0.000000\n",
      "          50%       26.000000\n",
      "          max      164.866700\n",
      "Name: Fare, dtype: float64\n"
     ]
    }
   ],
   "source": [
    "# Descriptive statistics\n",
    "titanic_by_survival = no_xtreme_outliers_df.groupby('Survived')\n",
    "print titanic_by_survival['Fare'].describe(percentiles=[0.5])"
   ]
  },
  {
   "cell_type": "markdown",
   "metadata": {},
   "source": [
    "Surviving passenger fares:\n",
    "> Range: 164.87\n",
    ">\n",
    "> Median: 26.00\n",
    ">\n",
    "> Mean: 37.80\n",
    ">\n",
    "> SD: 36.29\n",
    "\n",
    "Non-surviving passenger fares:\n",
    "> Range: 153.46\n",
    ">\n",
    "> Median: 10.46\n",
    ">\n",
    "> Mean: 19.72\n",
    ">\n",
    "> SD: 21.56\n",
    "\n",
    "\n",
    "There appears to be a great deal of overlap amongst fares. I noticed this when I printed out the the first five entries of extreme outliers with fares above 200. All were for first class, but some fares were more than 500 when others were closer to 250.\n",
    "\n",
    "__Are different prices paid for the same class?__ If so, why? Does this have to do with any other variable present in the data set?\n",
    "\n",
    "Maybe the place of embarkation has something to do with this; it is feasible that one place charges more or less for a ticket of the same class compared to another place."
   ]
  },
  {
   "cell_type": "code",
   "execution_count": 23,
   "metadata": {
    "collapsed": false
   },
   "outputs": [
    {
     "name": "stdout",
     "output_type": "stream",
     "text": [
      "['Southampton' 'Cherbourg' 'Queenstown' nan]\n",
      "(891, 12)\n"
     ]
    }
   ],
   "source": [
    "# Checking out the ports\n",
    "print titanic_df['Port_of_Embarkation'].unique()\n",
    "print titanic_df.shape"
   ]
  },
  {
   "cell_type": "markdown",
   "metadata": {},
   "source": [
    "Recall: only two NaNs present in 'Port_of_Embarkation' column, so ignore them in exploration by removing them."
   ]
  },
  {
   "cell_type": "code",
   "execution_count": 24,
   "metadata": {
    "collapsed": false
   },
   "outputs": [],
   "source": [
    "# Removing 'Port_of_Embarkation' entries with NaN; RUN ONLY ONCE\n",
    "cleaned_embark_df = titanic_df[titanic_df['Port_of_Embarkation'].notnull()]"
   ]
  },
  {
   "cell_type": "code",
   "execution_count": 25,
   "metadata": {
    "collapsed": false
   },
   "outputs": [
    {
     "name": "stdout",
     "output_type": "stream",
     "text": [
      "(889, 12)\n",
      "['Southampton' 'Cherbourg' 'Queenstown']\n"
     ]
    }
   ],
   "source": [
    "# Checking that it worked\n",
    "print cleaned_embark_df.shape\n",
    "print cleaned_embark_df['Port_of_Embarkation'].unique()"
   ]
  },
  {
   "cell_type": "markdown",
   "metadata": {},
   "source": [
    "With those NaN 'Port_of_Embarkation' column entries removed, let's visualize survival, fare, and port."
   ]
  },
  {
   "cell_type": "code",
   "execution_count": 26,
   "metadata": {
    "collapsed": false
   },
   "outputs": [
    {
     "data": {
      "image/png": "[encoded data removed]",
      "text/plain": [
       "<matplotlib.figure.Figure at 0x7fde651ce390>"
      ]
     },
     "metadata": {},
     "output_type": "display_data"
    }
   ],
   "source": [
    "# Plot\n",
    "bx_plt = sns.boxplot(x=cleaned_embark_df['Survived'], y=cleaned_embark_df['Fare'], \\\n",
    "                     hue=cleaned_embark_df['Port_of_Embarkation'])\n",
    "\n",
    "# Modify appearance\n",
    "bx_plt.axes.set_title('Passenger Fare and Survival with respect to \\n Ports of Embarkation', \\\n",
    "                      fontsize=18, fontweight='bold', color=\"k\", alpha=0.8)\n",
    "bx_plt.set_xlabel(\"Survived\", size = 14, color=\"k\", alpha=0.8)\n",
    "bx_plt.set_ylabel(\"Fare\", size = 14, color=\"k\", alpha=0.8)\n",
    "bx_plt.figure.set_size_inches(5,8)"
   ]
  },
  {
   "cell_type": "markdown",
   "metadata": {},
   "source": [
    "It's hard to see the finer details because of the extreme outliers (Fare > 500) from the survived, Cherbourg group. Let's remove that for a better visualization."
   ]
  },
  {
   "cell_type": "code",
   "execution_count": 27,
   "metadata": {
    "collapsed": true
   },
   "outputs": [],
   "source": [
    "# Removing these values; RUN ONLY ONCE\n",
    "cleaned_embark_df = cleaned_embark_df[cleaned_embark_df['Fare'] < 500].reset_index(drop=True)"
   ]
  },
  {
   "cell_type": "code",
   "execution_count": 28,
   "metadata": {
    "collapsed": false
   },
   "outputs": [
    {
     "data": {
      "text/plain": [
       "(886, 12)"
      ]
     },
     "execution_count": 28,
     "metadata": {},
     "output_type": "execute_result"
    }
   ],
   "source": [
    "# Checking that it worked...\n",
    "cleaned_embark_df.shape"
   ]
  },
  {
   "cell_type": "markdown",
   "metadata": {},
   "source": [
    "Let's replot since those are now removed."
   ]
  },
  {
   "cell_type": "code",
   "execution_count": 29,
   "metadata": {
    "collapsed": false
   },
   "outputs": [
    {
     "data": {
      "text/plain": [
       "<matplotlib.legend.Legend at 0x7fde6534e650>"
      ]
     },
     "execution_count": 29,
     "metadata": {},
     "output_type": "execute_result"
    },
    {
     "data": {
      "image/png": "[encoded data removed]",
      "text/plain": [
       "<matplotlib.figure.Figure at 0x7fde6519e350>"
      ]
     },
     "metadata": {},
     "output_type": "display_data"
    }
   ],
   "source": [
    "# Plot\n",
    "bx_plt = sns.boxplot(x=cleaned_embark_df['Survived'], y=cleaned_embark_df['Fare'], \\\n",
    "                     hue=cleaned_embark_df['Port_of_Embarkation'])\n",
    "\n",
    "# Modify appearance\n",
    "bx_plt.axes.set_title('Passenger Fare and Survival with respect to \\n Ports of Embarkation (Fare < 500)', \\\n",
    "                      fontsize=18, fontweight='bold', color=\"k\", alpha=0.8)\n",
    "bx_plt.set_xlabel(\"Survived\", size = 14, color=\"k\", alpha=0.8)\n",
    "bx_plt.set_ylabel(\"Fare\", size = 14, color=\"k\", alpha=0.8)\n",
    "bx_plt.figure.set_size_inches(5,8)\n",
    "plt.legend(bbox_to_anchor=(1.45, 0.5), fontsize='large')"
   ]
  },
  {
   "cell_type": "markdown",
   "metadata": {},
   "source": [
    "On first glance, it looks like tickets from Cherbourg are generally the more expensive than both Southampton and Queenstown. Queenstown generally seems to have the cheapest fare. Cherbourg also looks like it has a lot of spread overall, but especially in terms of those who survived.\n",
    "\n",
    "Let's get some descriptive statistics..."
   ]
  },
  {
   "cell_type": "code",
   "execution_count": 31,
   "metadata": {
    "collapsed": false
   },
   "outputs": [
    {
     "name": "stdout",
     "output_type": "stream",
     "text": [
      "('Died', 'Southampton')\n",
      "('Survived', 'Queenstown')\n",
      "('Survived', 'Cherbourg')\n",
      "('Survived', 'Southampton')\n",
      "('Died', 'Queenstown')\n",
      "('Died', 'Cherbourg')\n"
     ]
    }
   ],
   "source": [
    "# Grouping\n",
    "fare_port_groups = cleaned_embark_df.groupby(['Survived', 'Port_of_Embarkation'])\n",
    "\n",
    "# Checking what I have...\n",
    "for group in fare_port_groups.groups:\n",
    "    print group"
   ]
  },
  {
   "cell_type": "code",
   "execution_count": 32,
   "metadata": {
    "collapsed": false,
    "scrolled": false
   },
   "outputs": [
    {
     "name": "stdout",
     "output_type": "stream",
     "text": [
      "Survived  Port_of_Embarkation       \n",
      "Died      Cherbourg            count     75.000000\n",
      "                               mean      35.443335\n",
      "                               std       49.617218\n",
      "                               min        4.012500\n",
      "                               50%       14.458300\n",
      "                               max      247.520800\n",
      "          Queenstown           count     47.000000\n",
      "                               mean      13.335904\n",
      "                               std       13.550636\n",
      "                               min        6.750000\n",
      "                               50%        7.750000\n",
      "                               max       90.000000\n",
      "          Southampton          count    427.000000\n",
      "                               mean      20.743987\n",
      "                               std       27.896824\n",
      "                               min        0.000000\n",
      "                               50%       10.500000\n",
      "                               max      263.000000\n",
      "Survived  Cherbourg            count     90.000000\n",
      "                               mean      65.300650\n",
      "                               std       61.092420\n",
      "                               min        7.225000\n",
      "                               50%       52.472950\n",
      "                               max      262.375000\n",
      "          Queenstown           count     30.000000\n",
      "                               mean      13.182227\n",
      "                               std       15.371167\n",
      "                               min        7.733300\n",
      "                               50%        7.808350\n",
      "                               max       90.000000\n",
      "          Southampton          count    217.000000\n",
      "                               mean      39.547081\n",
      "                               std       45.427680\n",
      "                               min        0.000000\n",
      "                               50%       26.000000\n",
      "                               max      263.000000\n",
      "Name: Fare, dtype: float64\n"
     ]
    }
   ],
   "source": [
    "# Getting some descriptive statistics\n",
    "print fare_port_groups['Fare'].describe(percentiles=[0.5])"
   ]
  },
  {
   "cell_type": "markdown",
   "metadata": {},
   "source": [
    "__Ports and fares of survivors and non-survivors__\n",
    "\n",
    "- Port C:\n",
    "    - Non-survivors (0):\n",
    "        - Median fare: 14.46\n",
    "        - Mean fare: 35.44\n",
    "        - SD: 49.61\n",
    "    - Survivors (1):\n",
    "        - Median fare: 52.48\n",
    "        - Mean fare: 65.30\n",
    "        - SD: 61.09\n",
    "        > Although there is a good deal of spread present for both groups (but more so with survivors), __survivors generally have a greater fare__.\n",
    "        >\n",
    "        > The very large spread within Port C might indicate that many different classes boarded at this port. I can make this (educated) guess owing to the fact that I know upper class generally costs more (so fare and class are related) and because class correlates positive with survival.\n",
    "        >\n",
    "        > This could be further explored.\n",
    "\n",
    "\n",
    "- Port Q:\n",
    "    - Non-survivors:\n",
    "        - Median fare: 7.75\n",
    "        - Mean fare: 13.34\n",
    "        - SD: 13.55\n",
    "    - Survivors:\n",
    "        - Median fare: 7.81\n",
    "        - Mean fare: 13.18\n",
    "        - SD: 15.37\n",
    "        > __Survivors generally have a greater fare.__\n",
    "        >\n",
    "        > There is little spread in this port (compared to port C and S). This makes me suspicious that most of 3rd class boarded here.\n",
    "        \n",
    "- Port S:\n",
    "    - Non-survivors:\n",
    "        - Median fare: 10.50\n",
    "        - Mean fare: 20.74\n",
    "        - SD: 27.90\n",
    "    - Survivors:\n",
    "        - Median fare: 26.00\n",
    "        - Mean fare: 39.55\n",
    "        - SD: 45.43\n",
    "        > __Survivors generally have a greater fare.__"
   ]
  },
  {
   "cell_type": "markdown",
   "metadata": {},
   "source": [
    "I am not going to do a hypothesis test on passenger fare because I believe there are too many factors affecting fare to make it overly insightful.\n",
    "\n",
    "__I can say, from an observational viewpoint, that generally survivors have greater fares than non-survivors__ because the difference are quite large to the naked eye; though I have not statistically demonstrated this."
   ]
  },
  {
   "cell_type": "markdown",
   "metadata": {},
   "source": [
    "### Age\n",
    "This one may be tricky because many entries are missing; my approach will ignore entries that have no age listed."
   ]
  },
  {
   "cell_type": "code",
   "execution_count": 33,
   "metadata": {
    "collapsed": true
   },
   "outputs": [],
   "source": [
    "# Remove entries with NaN for age\n",
    "age_nan_removed_df = titanic_df[titanic_df['Age'].notnull()].reset_index(drop=True)"
   ]
  },
  {
   "cell_type": "code",
   "execution_count": 34,
   "metadata": {
    "collapsed": false
   },
   "outputs": [
    {
     "name": "stdout",
     "output_type": "stream",
     "text": [
      "(714, 12)\n"
     ]
    }
   ],
   "source": [
    "# Making sure it worked...\n",
    "print age_nan_removed_df.shape"
   ]
  },
  {
   "cell_type": "code",
   "execution_count": 35,
   "metadata": {
    "collapsed": false
   },
   "outputs": [
    {
     "data": {
      "image/png": "[encoded data removed]",
      "text/plain": [
       "<matplotlib.figure.Figure at 0x7fde64b82e90>"
      ]
     },
     "metadata": {},
     "output_type": "display_data"
    }
   ],
   "source": [
    "# Plot\n",
    "plt_clrs = ['green' if (x == 'Survived') else 'red' for x in age_nan_removed_df['Survived']] \\\n",
    "                        #red for dead, green for survived\n",
    "bx_plt = sns.boxplot(x=age_nan_removed_df['Survived'], y=age_nan_removed_df['Age'], palette=plt_clrs)\n",
    "\n",
    "# Modify appearance\n",
    "bx_plt.axes.set_title('Age and Survival', fontsize=18, fontweight='bold', color=\"k\", alpha=0.8)\n",
    "bx_plt.set_xlabel(\"Survived\", size = 14, color=\"k\", alpha=0.8)\n",
    "bx_plt.set_ylabel(\"Age\", size = 14, color=\"k\", alpha=0.8)\n",
    "bx_plt.figure.set_size_inches(5,6)"
   ]
  },
  {
   "cell_type": "markdown",
   "metadata": {},
   "source": [
    "There appears to be no significant difference between survivors and non-survivors. Let's get some descriptive statistics."
   ]
  },
  {
   "cell_type": "code",
   "execution_count": 36,
   "metadata": {
    "collapsed": false
   },
   "outputs": [
    {
     "name": "stdout",
     "output_type": "stream",
     "text": [
      "Survived       \n",
      "Died      count    424.000000\n",
      "          mean      30.626179\n",
      "          std       14.172110\n",
      "          min        1.000000\n",
      "          50%       28.000000\n",
      "          max       74.000000\n",
      "Survived  count    290.000000\n",
      "          mean      28.343690\n",
      "          std       14.950952\n",
      "          min        0.420000\n",
      "          50%       28.000000\n",
      "          max       80.000000\n",
      "Name: Age, dtype: float64\n"
     ]
    }
   ],
   "source": [
    "# Group age by survival\n",
    "print age_nan_removed_df.groupby('Survived')['Age'].describe(percentiles=[0.5])"
   ]
  },
  {
   "cell_type": "markdown",
   "metadata": {},
   "source": [
    "__Descriptive statistics summary__\n",
    "\n",
    "Non-survivors:\n",
    "> Median:  28.00\n",
    ">\n",
    "> Mean: 30.63\n",
    ">\n",
    "> SD: 14.17\n",
    "\n",
    "Survivors:\n",
    "> Median:  28.00\n",
    ">\n",
    "> Mean: 28.34\n",
    ">\n",
    "> SD: 14.95\n",
    "\n",
    "The results are nearly identical, suggesting that there is no significant difference in survival based on age.\n",
    "\n",
    "Let's do a two sample t-test for independent samples to confirm this hunch.\n",
    "\n",
    "Hypotheses (two-sided):\n",
    ">H<sub>0</sub>: $\\mu$<sub>0</sub> = $\\mu$<sub>1</sub>\n",
    ">\n",
    ">H<sub>1</sub>: $\\mu$<sub>0</sub> $\\neq$ $\\mu$<sub>1</sub>\n",
    "\n",
    "_Where $\\mu$<sub>0</sub> is the non-survivor population mean and \n",
    "$\\mu$<sub>1</sub> is the survivor population mean._\n",
    "\n",
    "Confidence level: 99% ($\\alpha$ = 0.01)"
   ]
  },
  {
   "cell_type": "code",
   "execution_count": 38,
   "metadata": {
    "collapsed": false
   },
   "outputs": [
    {
     "name": "stdout",
     "output_type": "stream",
     "text": [
      "T-critical value at p=0.01: ±2.59032361655\n",
      "T-statistic result: 2.06668694625\n",
      "Calculated p-value: 0.0391246540135\n"
     ]
    }
   ],
   "source": [
    "# Two sample t-test for independent samples, two-sided\n",
    "age_surv_ttest = stats.ttest_ind(a=age_nan_removed_df[age_nan_removed_df['Survived'] == 'Died']['Age'], \\\n",
    "                                 b=age_nan_removed_df[age_nan_removed_df['Survived'] == 'Survived']['Age'])\n",
    "\n",
    "# Results\n",
    "print 'T-critical value at p=0.01:', u\"\\u00B1\" + str(stats.t.ppf(q=0.995, df=341))   # quantile to check and d.o.f.\n",
    "print 'T-statistic result:', age_surv_ttest[0]\n",
    "print 'Calculated p-value:', age_surv_ttest[1]"
   ]
  },
  {
   "cell_type": "markdown",
   "metadata": {},
   "source": [
    "Test conditions and results:\n",
    "> T-critical values at p=0.01: $\\pm$2.590\n",
    ">\n",
    "> T statistic result: 2.067\n",
    ">\n",
    "> Calculated p-value: 0.039\n",
    ">\n",
    "> Null hypothesis rejected at p=0.01 (but not at 0.05 according to calculated p-value).\n",
    "\n",
    "Interpretation: \n",
    "> Survival based on age appears to be borderline random. There is about a 4% chance that we would see the difference that we do between the groups.\n",
    ">\n",
    "> The difference that I can see in the boxplot is that the survived 50% of values are shifted down (very modestly) in age compared to the non-survivor group."
   ]
  },
  {
   "cell_type": "markdown",
   "metadata": {},
   "source": [
    "# Conclusions\n",
    "\n",
    "I investigated the four variables (passenger characteristics) in terms of their relationship to survival: sex, class, fare, and age. The analysis leading up to each conclusion is detailed in above sections.\n",
    "\n",
    "__Passenger sex correlates with survival:__ females were more likely to survive than males.\n",
    "\n",
    "__Passenger class correlates with survival:__ the higher the passenger's class, the more likely that he or she survived.\n",
    "\n",
    "__Passenger fare likely correlates with survival:__ confounding variaibles like port and class affect the results, so it is hard to say for certain.\n",
    "\n",
    "__Passenger age weakly correlates with survival:__ there is an extremely modest difference between surviving and non-surviving passengers with respect to age; so it is difficult to say there is definitely a correlation."
   ]
  }
 ],
 "metadata": {
  "kernelspec": {
   "display_name": "Python 2",
   "language": "python",
   "name": "python2"
  },
  "language_info": {
   "codemirror_mode": {
    "name": "ipython",
    "version": 2
   },
   "file_extension": ".py",
   "mimetype": "text/x-python",
   "name": "python",
   "nbconvert_exporter": "python",
   "pygments_lexer": "ipython2",
   "version": "2.7.13"
  }
 },
 "nbformat": 4,
 "nbformat_minor": 2
}
